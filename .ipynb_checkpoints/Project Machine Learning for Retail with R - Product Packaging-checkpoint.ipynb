{
 "cells": [
  {
   "cell_type": "markdown",
   "metadata": {},
   "source": [
    "## Introduction\n",
    "DQLab.id Fashion is a fashion shop that sells various products such as jeans, shirts, cosmetics, and others. Although it is quite developed, but the increasing number of competitors and many products whose stocks are still large, it certainly worries DQLab.id Fashion managers. One solution is to create innovative packages. Where products that were previously unsold but have market share can even be packaged and sold.\n",
    "\n",
    "\n",
    "### Data\n",
    "Dataset in TSV format (Tab Separated Value)with 33,669 rows (3,450 transaction codes).\n",
    "The data tidied up by containing only two variables :\n",
    "\n",
    "- Kode Transaksi\n",
    "- Nama Barang\n",
    "\n",
    "Other variables such as price, date, number of purchases, etc not included because these two variables sufficient.\n",
    "\n",
    "### Task\n",
    "Several steps were taken to complete this project. First is prepare library and dataset. Then the raw data is cleaned up and scaled using standardization and normalization prior to modeling. And to realize this, using the A priori algorithm of the Arules package throughout this project.\n",
    "\n",
    "Get insight into the top 10 and bottom 10 of the products sold.\n",
    "Get a list of all product package combinations with strong correlations.\n",
    "Get a list of all product package combinations with specific items."
   ]
  },
  {
   "cell_type": "markdown",
   "metadata": {},
   "source": [
    "### Import Library and Read File"
   ]
  },
  {
   "cell_type": "code",
   "execution_count": 1,
   "metadata": {},
   "outputs": [
    {
     "name": "stderr",
     "output_type": "stream",
     "text": [
      "Loading required package: Matrix\n",
      "\n",
      "Attaching package: 'arules'\n",
      "\n",
      "The following objects are masked from 'package:base':\n",
      "\n",
      "    abbreviate, write\n",
      "\n"
     ]
    },
    {
     "data": {
      "text/plain": [
       "transactions in sparse format with\n",
       " 3450 transactions (rows) and\n",
       " 69 items (columns)"
      ]
     },
     "metadata": {},
     "output_type": "display_data"
    }
   ],
   "source": [
    "library(arules)\n",
    "transaksi_tabular <- read.transactions(file = \"datasets/transaksi_dqlab_retail.tsv\", format = \"single\", sep = \"\\t\", cols = c(1,2), skip = 1)\n",
    "transaksi_tabular"
   ]
  },
  {
   "cell_type": "markdown",
   "metadata": {},
   "source": [
    "### Top 10 Stats"
   ]
  },
  {
   "cell_type": "code",
   "execution_count": 2,
   "metadata": {},
   "outputs": [
    {
     "data": {
      "text/html": [
       "<table>\n",
       "<thead><tr><th scope=col>Nama.Produk</th><th scope=col>Jumlah</th></tr></thead>\n",
       "<tbody>\n",
       "\t<tr><td>Shampo Biasa             </td><td>2075                     </td></tr>\n",
       "\t<tr><td>Serum Vitamin            </td><td>1685                     </td></tr>\n",
       "\t<tr><td>Baju Batik Wanita        </td><td>1312                     </td></tr>\n",
       "\t<tr><td>Baju Kemeja Putih        </td><td>1255                     </td></tr>\n",
       "\t<tr><td>Celana Jogger Casual     </td><td>1136                     </td></tr>\n",
       "\t<tr><td>Cover Koper              </td><td>1086                     </td></tr>\n",
       "\t<tr><td>Sepatu Sandal Anak       </td><td>1062                     </td></tr>\n",
       "\t<tr><td>Tali Pinggang Gesper Pria</td><td>1003                     </td></tr>\n",
       "\t<tr><td>Sepatu Sport merk Z      </td><td> 888                     </td></tr>\n",
       "\t<tr><td>Wedges Hitam             </td><td> 849                     </td></tr>\n",
       "</tbody>\n",
       "</table>\n"
      ],
      "text/latex": [
       "\\begin{tabular}{r|ll}\n",
       " Nama.Produk & Jumlah\\\\\n",
       "\\hline\n",
       "\t Shampo Biasa              & 2075                     \\\\\n",
       "\t Serum Vitamin             & 1685                     \\\\\n",
       "\t Baju Batik Wanita         & 1312                     \\\\\n",
       "\t Baju Kemeja Putih         & 1255                     \\\\\n",
       "\t Celana Jogger Casual      & 1136                     \\\\\n",
       "\t Cover Koper               & 1086                     \\\\\n",
       "\t Sepatu Sandal Anak        & 1062                     \\\\\n",
       "\t Tali Pinggang Gesper Pria & 1003                     \\\\\n",
       "\t Sepatu Sport merk Z       &  888                     \\\\\n",
       "\t Wedges Hitam              &  849                     \\\\\n",
       "\\end{tabular}\n"
      ],
      "text/markdown": [
       "\n",
       "| Nama.Produk | Jumlah |\n",
       "|---|---|\n",
       "| Shampo Biasa              | 2075                      |\n",
       "| Serum Vitamin             | 1685                      |\n",
       "| Baju Batik Wanita         | 1312                      |\n",
       "| Baju Kemeja Putih         | 1255                      |\n",
       "| Celana Jogger Casual      | 1136                      |\n",
       "| Cover Koper               | 1086                      |\n",
       "| Sepatu Sandal Anak        | 1062                      |\n",
       "| Tali Pinggang Gesper Pria | 1003                      |\n",
       "| Sepatu Sport merk Z       |  888                      |\n",
       "| Wedges Hitam              |  849                      |\n",
       "\n"
      ],
      "text/plain": [
       "   Nama.Produk               Jumlah\n",
       "1  Shampo Biasa              2075  \n",
       "2  Serum Vitamin             1685  \n",
       "3  Baju Batik Wanita         1312  \n",
       "4  Baju Kemeja Putih         1255  \n",
       "5  Celana Jogger Casual      1136  \n",
       "6  Cover Koper               1086  \n",
       "7  Sepatu Sandal Anak        1062  \n",
       "8  Tali Pinggang Gesper Pria 1003  \n",
       "9  Sepatu Sport merk Z        888  \n",
       "10 Wedges Hitam               849  "
      ]
     },
     "metadata": {},
     "output_type": "display_data"
    }
   ],
   "source": [
    "data_top <- itemFrequency(transaksi_tabular, type = \"absolute\")\n",
    "data_top <- sort(data_top, decreasing = TRUE)\n",
    "data_top <- data_top[1:10]\n",
    "\n",
    "data_top <- data.frame(\"Nama Produk\" = names(data_top), \"Jumlah\" = data_top, row.names = NULL)\n",
    "\n",
    "data_top"
   ]
  },
  {
   "cell_type": "markdown",
   "metadata": {},
   "source": [
    "### Bottom 10 Stats"
   ]
  },
  {
   "cell_type": "code",
   "execution_count": 3,
   "metadata": {},
   "outputs": [
    {
     "data": {
      "text/html": [
       "<table>\n",
       "<thead><tr><th scope=col>Nama.Produk</th><th scope=col>Jumlah</th></tr></thead>\n",
       "<tbody>\n",
       "\t<tr><td>Celana Jeans Sobek Pria   </td><td> 9                        </td></tr>\n",
       "\t<tr><td>Tas Kosmetik              </td><td>11                        </td></tr>\n",
       "\t<tr><td>Stripe Pants              </td><td>19                        </td></tr>\n",
       "\t<tr><td>Pelembab                  </td><td>24                        </td></tr>\n",
       "\t<tr><td>Tali Ban Ikat Pinggang    </td><td>27                        </td></tr>\n",
       "\t<tr><td>Baju Renang Pria Anak-anak</td><td>32                        </td></tr>\n",
       "\t<tr><td>Hair Dye                  </td><td>46                        </td></tr>\n",
       "\t<tr><td>Atasan Baju Belang        </td><td>56                        </td></tr>\n",
       "\t<tr><td>Tas Sekolah Anak Perempuan</td><td>71                        </td></tr>\n",
       "\t<tr><td>Dompet Unisex             </td><td>75                        </td></tr>\n",
       "</tbody>\n",
       "</table>\n"
      ],
      "text/latex": [
       "\\begin{tabular}{r|ll}\n",
       " Nama.Produk & Jumlah\\\\\n",
       "\\hline\n",
       "\t Celana Jeans Sobek Pria    &  9                        \\\\\n",
       "\t Tas Kosmetik               & 11                        \\\\\n",
       "\t Stripe Pants               & 19                        \\\\\n",
       "\t Pelembab                   & 24                        \\\\\n",
       "\t Tali Ban Ikat Pinggang     & 27                        \\\\\n",
       "\t Baju Renang Pria Anak-anak & 32                        \\\\\n",
       "\t Hair Dye                   & 46                        \\\\\n",
       "\t Atasan Baju Belang         & 56                        \\\\\n",
       "\t Tas Sekolah Anak Perempuan & 71                        \\\\\n",
       "\t Dompet Unisex              & 75                        \\\\\n",
       "\\end{tabular}\n"
      ],
      "text/markdown": [
       "\n",
       "| Nama.Produk | Jumlah |\n",
       "|---|---|\n",
       "| Celana Jeans Sobek Pria    |  9                         |\n",
       "| Tas Kosmetik               | 11                         |\n",
       "| Stripe Pants               | 19                         |\n",
       "| Pelembab                   | 24                         |\n",
       "| Tali Ban Ikat Pinggang     | 27                         |\n",
       "| Baju Renang Pria Anak-anak | 32                         |\n",
       "| Hair Dye                   | 46                         |\n",
       "| Atasan Baju Belang         | 56                         |\n",
       "| Tas Sekolah Anak Perempuan | 71                         |\n",
       "| Dompet Unisex              | 75                         |\n",
       "\n"
      ],
      "text/plain": [
       "   Nama.Produk                Jumlah\n",
       "1  Celana Jeans Sobek Pria     9    \n",
       "2  Tas Kosmetik               11    \n",
       "3  Stripe Pants               19    \n",
       "4  Pelembab                   24    \n",
       "5  Tali Ban Ikat Pinggang     27    \n",
       "6  Baju Renang Pria Anak-anak 32    \n",
       "7  Hair Dye                   46    \n",
       "8  Atasan Baju Belang         56    \n",
       "9  Tas Sekolah Anak Perempuan 71    \n",
       "10 Dompet Unisex              75    "
      ]
     },
     "metadata": {},
     "output_type": "display_data"
    }
   ],
   "source": [
    "data_bottom <- itemFrequency(transaksi_tabular, type = \"absolute\")\n",
    "data_bottom <- sort(data_bottom, decreasing = FALSE)\n",
    "data_bottom <- data_bottom[1:10]\n",
    "\n",
    "data_bottom <- data.frame(\"Nama Produk\" = names(data_bottom), \"Jumlah\" = data_bottom, row.names = NULL)\n",
    "\n",
    "data_bottom"
   ]
  },
  {
   "cell_type": "markdown",
   "metadata": {},
   "source": [
    "### Get an interesting Product Combination"
   ]
  },
  {
   "cell_type": "code",
   "execution_count": 4,
   "metadata": {},
   "outputs": [
    {
     "name": "stdout",
     "output_type": "stream",
     "text": [
      "Apriori\n",
      "\n",
      "Parameter specification:\n",
      " confidence minval smax arem  aval originalSupport maxtime     support minlen\n",
      "        0.5    0.1    1 none FALSE            TRUE       5 0.002898551      2\n",
      " maxlen target   ext\n",
      "      3  rules FALSE\n",
      "\n",
      "Algorithmic control:\n",
      " filter tree heap memopt load sort verbose\n",
      "    0.1 TRUE TRUE  FALSE TRUE    2    TRUE\n",
      "\n",
      "Absolute minimum support count: 10 \n",
      "\n",
      "set item appearances ...[0 item(s)] done [0.00s].\n",
      "set transactions ...[69 item(s), 3450 transaction(s)] done [0.00s].\n",
      "sorting and recoding items ... [68 item(s)] done [0.00s].\n",
      "creating transaction tree ... done [0.00s].\n",
      "checking subsets of size 1 2 3"
     ]
    },
    {
     "name": "stderr",
     "output_type": "stream",
     "text": [
      "Warning message in apriori(transaksi_tabular, parameter = list(supp = 10/length(transaksi_tabular), :\n",
      "\"Mining stopped (maxlen reached). Only patterns up to a length of 3 returned!\""
     ]
    },
    {
     "name": "stdout",
     "output_type": "stream",
     "text": [
      " done [0.01s].\n",
      "writing ... [4637 rule(s)] done [0.00s].\n",
      "creating S4 object  ... done [0.00s].\n"
     ]
    },
    {
     "data": {
      "text/plain": [
       "set of 10 rules "
      ]
     },
     "metadata": {},
     "output_type": "display_data"
    },
    {
     "name": "stdout",
     "output_type": "stream",
     "text": [
      "     lhs                             rhs                              support confidence     lift count\n",
      "[1]  {Tas Makeup,                                                                                      \n",
      "      Tas Pinggang Wanita}        => {Baju Renang Anak Perempuan} 0.010434783  0.8780488 24.42958    36\n",
      "[2]  {Tas Makeup,                                                                                      \n",
      "      Tas Travel}                 => {Baju Renang Anak Perempuan} 0.010144928  0.8139535 22.64629    35\n",
      "[3]  {Tas Makeup,                                                                                      \n",
      "      Tas Ransel Mini}            => {Baju Renang Anak Perempuan} 0.011304348  0.7358491 20.47322    39\n",
      "[4]  {Sunblock Cream,                                                                                  \n",
      "      Tas Pinggang Wanita}        => {Kuas Makeup }               0.016231884  0.6913580 20.21343    56\n",
      "[5]  {Baju Renang Anak Perempuan,                                                                      \n",
      "      Tas Pinggang Wanita}        => {Tas Makeup}                 0.010434783  0.8000000 19.57447    36\n",
      "[6]  {Baju Renang Anak Perempuan,                                                                      \n",
      "      Tas Ransel Mini}            => {Tas Makeup}                 0.011304348  0.7959184 19.47460    39\n",
      "[7]  {Baju Renang Anak Perempuan,                                                                      \n",
      "      Celana Pendek Green/Hijau}  => {Tas Makeup}                 0.010144928  0.7777778 19.03073    35\n",
      "[8]  {Tas Makeup,                                                                                      \n",
      "      Tas Waist Bag}              => {Baju Renang Anak Perempuan} 0.004347826  0.6818182 18.96994    15\n",
      "[9]  {Celana Pendek Green/Hijau,                                                                       \n",
      "      Tas Makeup}                 => {Baju Renang Anak Perempuan} 0.010144928  0.6730769 18.72674    35\n",
      "[10] {Dompet Flip Cover,                                                                               \n",
      "      Sunblock Cream}             => {Kuas Makeup }               0.016231884  0.6292135 18.39650    56\n"
     ]
    }
   ],
   "source": [
    "combination <- apriori(transaksi_tabular, parameter = list(supp = 10/length(transaksi_tabular), confidence = 0.5, minlen= 2, maxlen = 3))\n",
    "\n",
    "combination_result <- head(combination, n = 10, by = \"lift\")\n",
    "\n",
    "combination_result\n",
    "inspect(combination_result)"
   ]
  },
  {
   "cell_type": "markdown",
   "metadata": {},
   "source": [
    "### Product Packages that can be paired with Slow-Moving Items"
   ]
  },
  {
   "cell_type": "code",
   "execution_count": 5,
   "metadata": {},
   "outputs": [
    {
     "name": "stdout",
     "output_type": "stream",
     "text": [
      "Apriori\n",
      "\n",
      "Parameter specification:\n",
      " confidence minval smax arem  aval originalSupport maxtime     support minlen\n",
      "        0.1    0.1    1 none FALSE            TRUE       5 0.002898551      2\n",
      " maxlen target   ext\n",
      "      3  rules FALSE\n",
      "\n",
      "Algorithmic control:\n",
      " filter tree heap memopt load sort verbose\n",
      "    0.1 TRUE TRUE  FALSE TRUE    2    TRUE\n",
      "\n",
      "Absolute minimum support count: 10 \n",
      "\n",
      "set item appearances ...[0 item(s)] done [0.00s].\n",
      "set transactions ...[69 item(s), 3450 transaction(s)] done [0.01s].\n",
      "sorting and recoding items ... [68 item(s)] done [0.00s].\n",
      "creating transaction tree ... done [0.00s].\n",
      "checking subsets of size 1 2 3"
     ]
    },
    {
     "name": "stderr",
     "output_type": "stream",
     "text": [
      "Warning message in apriori(transaksi_tabular, parameter = list(supp = 10/length(transaksi_tabular), :\n",
      "\"Mining stopped (maxlen reached). Only patterns up to a length of 3 returned!\""
     ]
    },
    {
     "name": "stdout",
     "output_type": "stream",
     "text": [
      " done [0.01s].\n",
      "writing ... [39832 rule(s)] done [0.01s].\n",
      "creating S4 object  ... done [0.01s].\n",
      "    lhs                             rhs                              support confidence     lift count\n",
      "[1] {Baju Renang Anak Perempuan,                                                                      \n",
      "     Tas Pinggang Wanita}        => {Tas Makeup}                 0.010434783  0.8000000 19.57447    36\n",
      "[2] {Baju Renang Anak Perempuan,                                                                      \n",
      "     Tas Ransel Mini}            => {Tas Makeup}                 0.011304348  0.7959184 19.47460    39\n",
      "[3] {Baju Renang Anak Perempuan,                                                                      \n",
      "     Celana Pendek Green/Hijau}  => {Tas Makeup}                 0.010144928  0.7777778 19.03073    35\n",
      "[4] {Gembok Koper,                                                                                    \n",
      "     Tas Waist Bag}              => {Baju Renang Pria Anak-anak} 0.004057971  0.2745098 29.59559    14\n",
      "[5] {Flat Shoes Ballerina,                                                                            \n",
      "     Gembok Koper}               => {Baju Renang Pria Anak-anak} 0.004057971  0.1866667 20.12500    14\n",
      "[6] {Celana Jeans Sobek Wanita,                                                                       \n",
      "     Jeans Jumbo}                => {Baju Renang Pria Anak-anak} 0.005507246  0.1210191 13.04737    19\n"
     ]
    }
   ],
   "source": [
    "slowmove_combination <- apriori(transaksi_tabular, parameter = list(supp = 10/length(transaksi_tabular), confidence = 0.1, minlen= 2, maxlen = 3))\n",
    "\n",
    "c1 <- subset(slowmove_combination, rhs %in% \"Tas Makeup\")\n",
    "result_c1 <- head(sort(c1, by = \"lift\", decreasing = TRUE), 3)\n",
    "c2 <- subset(slowmove_combination, rhs %in% \"Baju Renang Pria Anak-anak\")\n",
    "result_c2 <- head(sort(c2, by = \"lift\", decreasing = TRUE), 3)\n",
    "\n",
    "final_result <- c(result_c1, result_c2)\n",
    "\n",
    "inspect(final_result)"
   ]
  },
  {
   "cell_type": "markdown",
   "metadata": {},
   "source": [
    "### The final result can be seen in: output/combination _retail_ slow moving"
   ]
  },
  {
   "cell_type": "code",
   "execution_count": 6,
   "metadata": {},
   "outputs": [],
   "source": [
    "write(final_result, file = \"output/kombinasi_retail_slow_moving.txt\")"
   ]
  },
  {
   "cell_type": "markdown",
   "metadata": {},
   "source": [
    "### Summary :\n",
    "From the results, we get the results of 3 combinations each for the 2 slow-moving items that have the strongest association,\n",
    "\n",
    "Tas Makeup:\n",
    "- {Baju Renang Anak Perempuan, Tas Pinggang Wanita} => {Tas Makeup}\n",
    "- {Baju Renang Anak Perempuan, Tas Ransel Mini} => {Tas Makeup}\n",
    "- {Baju Renang Anak Perempuan, Celana Pendek Green/Hijau} => {Tas Makeup}\n",
    "\n",
    "Baju Renang Pria Anak-anak:\n",
    "- {Gembok Koper, Tas Waist Bag} => {Baju Renang Pria Anak-anak}\n",
    "- {Flat Shoes Ballerina, Gembok Koper} => {Baju Renang Pria Anak-anak}\n",
    "- {Celana Jeans Sobek Wanita, Jeans Jumbo} => {Baju Renang Pria Anak-anak}\n"
   ]
  }
 ],
 "metadata": {
  "kernelspec": {
   "display_name": "R",
   "language": "R",
   "name": "ir"
  },
  "language_info": {
   "codemirror_mode": "r",
   "file_extension": ".r",
   "mimetype": "text/x-r-source",
   "name": "R",
   "pygments_lexer": "r",
   "version": "3.6.1"
  }
 },
 "nbformat": 4,
 "nbformat_minor": 4
}
